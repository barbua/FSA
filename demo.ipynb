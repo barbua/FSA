{
 "cells": [
  {
   "cell_type": "code",
   "execution_count": 1,
   "metadata": {},
   "outputs": [],
   "source": [
    "import sys\n",
    "sys.path.append('./Release')\n",
    "libmodel = __import__(\"PyFSA\")"
   ]
  },
  {
   "cell_type": "code",
   "execution_count": 4,
   "metadata": {
    "scrolled": true
   },
   "outputs": [
    {
     "name": "stdout",
     "output_type": "stream",
     "text": [
      "499 [-1. -1.]\n"
     ]
    }
   ],
   "source": [
    "import numpy as np\n",
    "x = np.random.normal(0,1,size = (1000,10)).astype(np.float32)\n",
    "b = np.zeros((10,1),dtype=np.float32)\n",
    "trueVars=np.array([2,5])\n",
    "b[trueVars]=1\n",
    "y = np.matmul(x,b).reshape(1000).astype(np.float32)\n",
    "y[y>0]=1.\n",
    "y[y<=0]=-1\n",
    "print(np.sum(y>0),\"positives, \",y[0:2])"
   ]
  },
  {
   "cell_type": "code",
   "execution_count": 14,
   "metadata": {},
   "outputs": [
    {
     "name": "stdout",
     "output_type": "stream",
     "text": [
      "true vars =  [2 5]\n",
      "selected vars =  [2, 5]\n",
      "loss=  9.919479370117188\n"
     ]
    }
   ],
   "source": [
    "b0,b,sel,loss=libmodel.TrainLinFSA(x,y,1,2,0.,.1,100,100.,0.9,64,2)\n",
    "print ('true vars = ', trueVars)\n",
    "print (\"selected vars = \", sel)\n",
    "print (\"loss= \", loss)"
   ]
  },
  {
   "cell_type": "code",
   "execution_count": null,
   "metadata": {},
   "outputs": [],
   "source": []
  }
 ],
 "metadata": {
  "kernelspec": {
   "display_name": "Python 3",
   "language": "python",
   "name": "python3"
  },
  "language_info": {
   "codemirror_mode": {
    "name": "ipython",
    "version": 3
   },
   "file_extension": ".py",
   "mimetype": "text/x-python",
   "name": "python",
   "nbconvert_exporter": "python",
   "pygments_lexer": "ipython3",
   "version": "3.7.6"
  }
 },
 "nbformat": 4,
 "nbformat_minor": 1
}

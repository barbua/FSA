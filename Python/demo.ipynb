{
 "cells": [
  {
   "cell_type": "code",
   "execution_count": 2,
   "metadata": {},
   "outputs": [
    {
     "name": "stdout",
     "output_type": "stream",
     "text": [
      "cuda:0\n"
     ]
    }
   ],
   "source": [
    "import numpy as np\n",
    "import matplotlib.pyplot as plt\n",
    "import torch\n",
    "from fsa import FSA\n",
    "\n",
    "device = torch.device(\"cuda:0\" if torch.cuda.is_available() else \"cpu\")\n",
    "# Assuming that we are on a CUDA machine, this should print a CUDA device:\n",
    "print(device)"
   ]
  },
  {
   "cell_type": "code",
   "execution_count": 3,
   "metadata": {
    "scrolled": true
   },
   "outputs": [
    {
     "name": "stdout",
     "output_type": "stream",
     "text": [
      "torch.Size([6000, 5000]) torch.Size([6000])\n"
     ]
    }
   ],
   "source": [
    "y = torch.tensor(np.loadtxt(\"c:/datasets/uci/gisette/gisette_train.labels\", delimiter=','))\n",
    "x = torch.tensor(np.loadtxt(\"c:/datasets/uci/gisette/gisette_train.data\"))\n",
    "yt = torch.tensor(np.loadtxt(\"c:/datasets/uci/gisette/gisette_valid.labels\", delimiter=','))\n",
    "xt = torch.tensor(np.loadtxt(\"c:/datasets/uci/gisette/gisette_valid.data\"))\n",
    "print(x.shape,y.shape)\n",
    "x=x.to(device)\n",
    "y=y.to(device)\n",
    "xt=xt.to(device)\n",
    "yt=yt.to(device)"
   ]
  },
  {
   "cell_type": "code",
   "execution_count": 4,
   "metadata": {},
   "outputs": [
    {
     "name": "stdout",
     "output_type": "stream",
     "text": [
      "torch.Size([6000, 4955])\n",
      "torch.Size([4955])\n"
     ]
    }
   ],
   "source": [
    "sx=torch.std(x,axis=0)\n",
    "x=x[:,sx!=0]\n",
    "xt=xt[:,sx!=0]\n",
    "print(x.shape)\n",
    "mx=torch.mean(x,axis=0)\n",
    "sx=torch.std(x,axis=0)\n",
    "print(mx.shape)\n",
    "x=(x-mx)/sx\n",
    "xt=(xt-mx)/sx"
   ]
  },
  {
   "cell_type": "code",
   "execution_count": 8,
   "metadata": {},
   "outputs": [
    {
     "name": "stdout",
     "output_type": "stream",
     "text": [
      "AUC: train 0.998\n"
     ]
    },
    {
     "data": {
      "image/png": "[encoded data removed]",
      "text/plain": [
       "<Figure size 432x288 with 1 Axes>"
      ]
     },
     "metadata": {
      "needs_background": "light"
     },
     "output_type": "display_data"
    }
   ],
   "source": [
    "from sklearn.metrics import roc_auc_score\n",
    "clf=FSA(100)\n",
    "l=clf.fit(x,y,device)\n",
    "plt.plot(l)\n",
    "with torch.no_grad():\n",
    "    py=clf.predict(x).cpu()\n",
    "    print(\"AUC: train %.3f\" % roc_auc_score(y.cpu(),py))"
   ]
  },
  {
   "cell_type": "code",
   "execution_count": 10,
   "metadata": {},
   "outputs": [
    {
     "name": "stdout",
     "output_type": "stream",
     "text": [
      "AUC test 0.996\n",
      "tensor([  60,  211,  264,  335,  345,  451,  463,  506,  513,  549,  552,  574,\n",
      "         652,  724,  727,  751,  899, 1013, 1019, 1040, 1058, 1085, 1119, 1202,\n",
      "        1218, 1226, 1260, 1266, 1323, 1360, 1511, 1621, 1644, 1763, 1780, 1799,\n",
      "        1876, 1907, 1919, 1931, 1979, 2081, 2203, 2215, 2281, 2313, 2332, 2427,\n",
      "        2467, 2594, 2653, 2689, 2715, 2786, 2804, 2811, 2817, 2867, 2884, 2973,\n",
      "        3034, 3046, 3091, 3236, 3271, 3282, 3294, 3327, 3406, 3430, 3509, 3559,\n",
      "        3620, 3708, 3717, 3799, 3813, 3936, 4054, 4068, 4073, 4117, 4142, 4225,\n",
      "        4237, 4327, 4344, 4366, 4381, 4423, 4464, 4510, 4532, 4647, 4792, 4832,\n",
      "        4860, 4881, 4919, 4946], device='cuda:0')\n"
     ]
    }
   ],
   "source": [
    "with torch.no_grad():\n",
    "    pyt=clf.predict(xt).cpu()\n",
    "print(\"AUC test %.3f\" % roc_auc_score(yt.cpu(),pyt))\n",
    "print(clf.idx)"
   ]
  },
  {
   "cell_type": "code",
   "execution_count": null,
   "metadata": {},
   "outputs": [],
   "source": []
  }
 ],
 "metadata": {
  "kernelspec": {
   "display_name": "Python 3",
   "language": "python",
   "name": "python3"
  },
  "language_info": {
   "codemirror_mode": {
    "name": "ipython",
    "version": 3
   },
   "file_extension": ".py",
   "mimetype": "text/x-python",
   "name": "python",
   "nbconvert_exporter": "python",
   "pygments_lexer": "ipython3",
   "version": "3.8.8"
  }
 },
 "nbformat": 4,
 "nbformat_minor": 1
}
